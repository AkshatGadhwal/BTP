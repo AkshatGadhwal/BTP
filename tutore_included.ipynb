{
 "cells": [
  {
   "cell_type": "code",
   "execution_count": null,
   "metadata": {},
   "outputs": [],
   "source": []
  }
 ],
 "metadata": {
  "kernelspec": {
   "display_name": "Python 3.8.10 64-bit (windows store)",
   "language": "python",
   "name": "python3"
  },
  "language_info": {
   "name": "python",
   "version": "3.8.10"
  },
  "orig_nbformat": 4,
  "vscode": {
   "interpreter": {
    "hash": "3db9959ebf0c4d6f409181a70ae778b0952fc05da52850b82c6ae38b43bff7cb"
   }
  }
 },
 "nbformat": 4,
 "nbformat_minor": 2
}
